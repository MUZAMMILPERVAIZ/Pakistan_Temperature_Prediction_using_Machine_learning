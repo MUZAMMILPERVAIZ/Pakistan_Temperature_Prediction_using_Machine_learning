{
 "cells": [
  {
   "cell_type": "code",
   "execution_count": 1,
   "outputs": [],
   "source": [
    "from sklearn.linear_model import LinearRegression\n",
    "import pandas as pd"
   ],
   "metadata": {
    "collapsed": false,
    "pycharm": {
     "name": "#%%\n"
    }
   }
  },
  {
   "cell_type": "code",
   "execution_count": 20,
   "outputs": [
    {
     "data": {
      "text/plain": "   Temperature   Year     Month\n0      7.72768   1901   January\n1      8.93600   1901  February\n2     16.96320   1901     March\n3     21.27410   1901     April\n4     26.04970   1901       May",
      "text/html": "<div>\n<style scoped>\n    .dataframe tbody tr th:only-of-type {\n        vertical-align: middle;\n    }\n\n    .dataframe tbody tr th {\n        vertical-align: top;\n    }\n\n    .dataframe thead th {\n        text-align: right;\n    }\n</style>\n<table border=\"1\" class=\"dataframe\">\n  <thead>\n    <tr style=\"text-align: right;\">\n      <th></th>\n      <th>Temperature</th>\n      <th>Year</th>\n      <th>Month</th>\n    </tr>\n  </thead>\n  <tbody>\n    <tr>\n      <th>0</th>\n      <td>7.72768</td>\n      <td>1901</td>\n      <td>January</td>\n    </tr>\n    <tr>\n      <th>1</th>\n      <td>8.93600</td>\n      <td>1901</td>\n      <td>February</td>\n    </tr>\n    <tr>\n      <th>2</th>\n      <td>16.96320</td>\n      <td>1901</td>\n      <td>March</td>\n    </tr>\n    <tr>\n      <th>3</th>\n      <td>21.27410</td>\n      <td>1901</td>\n      <td>April</td>\n    </tr>\n    <tr>\n      <th>4</th>\n      <td>26.04970</td>\n      <td>1901</td>\n      <td>May</td>\n    </tr>\n  </tbody>\n</table>\n</div>"
     },
     "execution_count": 20,
     "metadata": {},
     "output_type": "execute_result"
    }
   ],
   "source": [
    "df = pd.read_csv(\"Tempreture_1901_2016_Pakistan.csv\")\n",
    "df.head()"
   ],
   "metadata": {
    "collapsed": false,
    "pycharm": {
     "name": "#%%\n"
    }
   }
  },
  {
   "cell_type": "code",
   "execution_count": 21,
   "outputs": [
    {
     "data": {
      "text/plain": "0     7.72768\n1     8.93600\n2    16.96320\n3    21.27410\n4    26.04970\nName: Temperature, dtype: float64"
     },
     "execution_count": 21,
     "metadata": {},
     "output_type": "execute_result"
    }
   ],
   "source": [
    "target = df.Temperature\n",
    "target.head()"
   ],
   "metadata": {
    "collapsed": false,
    "pycharm": {
     "name": "#%%\n"
    }
   }
  },
  {
   "cell_type": "code",
   "execution_count": 22,
   "outputs": [
    {
     "data": {
      "text/plain": "   Temperature   Year     Month\n0      7.72768   1901   January\n1      8.93600   1901  February\n2     16.96320   1901     March\n3     21.27410   1901     April\n4     26.04970   1901       May",
      "text/html": "<div>\n<style scoped>\n    .dataframe tbody tr th:only-of-type {\n        vertical-align: middle;\n    }\n\n    .dataframe tbody tr th {\n        vertical-align: top;\n    }\n\n    .dataframe thead th {\n        text-align: right;\n    }\n</style>\n<table border=\"1\" class=\"dataframe\">\n  <thead>\n    <tr style=\"text-align: right;\">\n      <th></th>\n      <th>Temperature</th>\n      <th>Year</th>\n      <th>Month</th>\n    </tr>\n  </thead>\n  <tbody>\n    <tr>\n      <th>0</th>\n      <td>7.72768</td>\n      <td>1901</td>\n      <td>January</td>\n    </tr>\n    <tr>\n      <th>1</th>\n      <td>8.93600</td>\n      <td>1901</td>\n      <td>February</td>\n    </tr>\n    <tr>\n      <th>2</th>\n      <td>16.96320</td>\n      <td>1901</td>\n      <td>March</td>\n    </tr>\n    <tr>\n      <th>3</th>\n      <td>21.27410</td>\n      <td>1901</td>\n      <td>April</td>\n    </tr>\n    <tr>\n      <th>4</th>\n      <td>26.04970</td>\n      <td>1901</td>\n      <td>May</td>\n    </tr>\n  </tbody>\n</table>\n</div>"
     },
     "execution_count": 22,
     "metadata": {},
     "output_type": "execute_result"
    }
   ],
   "source": [
    "df.head()"
   ],
   "metadata": {
    "collapsed": false,
    "pycharm": {
     "name": "#%%\n"
    }
   }
  },
  {
   "cell_type": "code",
   "execution_count": 30,
   "outputs": [
    {
     "data": {
      "text/plain": "   April  August  December  February  January  July  June  March  May  \\\n0      0       0         0         0        1     0     0      0    0   \n1      0       0         0         1        0     0     0      0    0   \n2      0       0         0         0        0     0     0      1    0   \n3      1       0         0         0        0     0     0      0    0   \n4      0       0         0         0        0     0     0      0    1   \n\n   November  October  September  \n0         0        0          0  \n1         0        0          0  \n2         0        0          0  \n3         0        0          0  \n4         0        0          0  ",
      "text/html": "<div>\n<style scoped>\n    .dataframe tbody tr th:only-of-type {\n        vertical-align: middle;\n    }\n\n    .dataframe tbody tr th {\n        vertical-align: top;\n    }\n\n    .dataframe thead th {\n        text-align: right;\n    }\n</style>\n<table border=\"1\" class=\"dataframe\">\n  <thead>\n    <tr style=\"text-align: right;\">\n      <th></th>\n      <th>April</th>\n      <th>August</th>\n      <th>December</th>\n      <th>February</th>\n      <th>January</th>\n      <th>July</th>\n      <th>June</th>\n      <th>March</th>\n      <th>May</th>\n      <th>November</th>\n      <th>October</th>\n      <th>September</th>\n    </tr>\n  </thead>\n  <tbody>\n    <tr>\n      <th>0</th>\n      <td>0</td>\n      <td>0</td>\n      <td>0</td>\n      <td>0</td>\n      <td>1</td>\n      <td>0</td>\n      <td>0</td>\n      <td>0</td>\n      <td>0</td>\n      <td>0</td>\n      <td>0</td>\n      <td>0</td>\n    </tr>\n    <tr>\n      <th>1</th>\n      <td>0</td>\n      <td>0</td>\n      <td>0</td>\n      <td>1</td>\n      <td>0</td>\n      <td>0</td>\n      <td>0</td>\n      <td>0</td>\n      <td>0</td>\n      <td>0</td>\n      <td>0</td>\n      <td>0</td>\n    </tr>\n    <tr>\n      <th>2</th>\n      <td>0</td>\n      <td>0</td>\n      <td>0</td>\n      <td>0</td>\n      <td>0</td>\n      <td>0</td>\n      <td>0</td>\n      <td>1</td>\n      <td>0</td>\n      <td>0</td>\n      <td>0</td>\n      <td>0</td>\n    </tr>\n    <tr>\n      <th>3</th>\n      <td>1</td>\n      <td>0</td>\n      <td>0</td>\n      <td>0</td>\n      <td>0</td>\n      <td>0</td>\n      <td>0</td>\n      <td>0</td>\n      <td>0</td>\n      <td>0</td>\n      <td>0</td>\n      <td>0</td>\n    </tr>\n    <tr>\n      <th>4</th>\n      <td>0</td>\n      <td>0</td>\n      <td>0</td>\n      <td>0</td>\n      <td>0</td>\n      <td>0</td>\n      <td>0</td>\n      <td>0</td>\n      <td>1</td>\n      <td>0</td>\n      <td>0</td>\n      <td>0</td>\n    </tr>\n  </tbody>\n</table>\n</div>"
     },
     "execution_count": 30,
     "metadata": {},
     "output_type": "execute_result"
    }
   ],
   "source": [
    "dummies = pd.get_dummies(df['Month'],)\n",
    "\n",
    "dummies.head()"
   ],
   "metadata": {
    "collapsed": false,
    "pycharm": {
     "name": "#%%\n"
    }
   }
  },
  {
   "cell_type": "code",
   "execution_count": 41,
   "outputs": [
    {
     "data": {
      "text/plain": "   Temperature   Year     Month  April  August  December  February  January  \\\n0      7.72768   1901   January      0       0         0         0        1   \n1      8.93600   1901  February      0       0         0         1        0   \n2     16.96320   1901     March      0       0         0         0        0   \n3     21.27410   1901     April      1       0         0         0        0   \n4     26.04970   1901       May      0       0         0         0        0   \n\n   July  June  March  May  November  October  September  \n0     0     0      0    0         0        0          0  \n1     0     0      0    0         0        0          0  \n2     0     0      1    0         0        0          0  \n3     0     0      0    0         0        0          0  \n4     0     0      0    1         0        0          0  ",
      "text/html": "<div>\n<style scoped>\n    .dataframe tbody tr th:only-of-type {\n        vertical-align: middle;\n    }\n\n    .dataframe tbody tr th {\n        vertical-align: top;\n    }\n\n    .dataframe thead th {\n        text-align: right;\n    }\n</style>\n<table border=\"1\" class=\"dataframe\">\n  <thead>\n    <tr style=\"text-align: right;\">\n      <th></th>\n      <th>Temperature</th>\n      <th>Year</th>\n      <th>Month</th>\n      <th>April</th>\n      <th>August</th>\n      <th>December</th>\n      <th>February</th>\n      <th>January</th>\n      <th>July</th>\n      <th>June</th>\n      <th>March</th>\n      <th>May</th>\n      <th>November</th>\n      <th>October</th>\n      <th>September</th>\n    </tr>\n  </thead>\n  <tbody>\n    <tr>\n      <th>0</th>\n      <td>7.72768</td>\n      <td>1901</td>\n      <td>January</td>\n      <td>0</td>\n      <td>0</td>\n      <td>0</td>\n      <td>0</td>\n      <td>1</td>\n      <td>0</td>\n      <td>0</td>\n      <td>0</td>\n      <td>0</td>\n      <td>0</td>\n      <td>0</td>\n      <td>0</td>\n    </tr>\n    <tr>\n      <th>1</th>\n      <td>8.93600</td>\n      <td>1901</td>\n      <td>February</td>\n      <td>0</td>\n      <td>0</td>\n      <td>0</td>\n      <td>1</td>\n      <td>0</td>\n      <td>0</td>\n      <td>0</td>\n      <td>0</td>\n      <td>0</td>\n      <td>0</td>\n      <td>0</td>\n      <td>0</td>\n    </tr>\n    <tr>\n      <th>2</th>\n      <td>16.96320</td>\n      <td>1901</td>\n      <td>March</td>\n      <td>0</td>\n      <td>0</td>\n      <td>0</td>\n      <td>0</td>\n      <td>0</td>\n      <td>0</td>\n      <td>0</td>\n      <td>1</td>\n      <td>0</td>\n      <td>0</td>\n      <td>0</td>\n      <td>0</td>\n    </tr>\n    <tr>\n      <th>3</th>\n      <td>21.27410</td>\n      <td>1901</td>\n      <td>April</td>\n      <td>1</td>\n      <td>0</td>\n      <td>0</td>\n      <td>0</td>\n      <td>0</td>\n      <td>0</td>\n      <td>0</td>\n      <td>0</td>\n      <td>0</td>\n      <td>0</td>\n      <td>0</td>\n      <td>0</td>\n    </tr>\n    <tr>\n      <th>4</th>\n      <td>26.04970</td>\n      <td>1901</td>\n      <td>May</td>\n      <td>0</td>\n      <td>0</td>\n      <td>0</td>\n      <td>0</td>\n      <td>0</td>\n      <td>0</td>\n      <td>0</td>\n      <td>0</td>\n      <td>1</td>\n      <td>0</td>\n      <td>0</td>\n      <td>0</td>\n    </tr>\n  </tbody>\n</table>\n</div>"
     },
     "execution_count": 41,
     "metadata": {},
     "output_type": "execute_result"
    }
   ],
   "source": [
    "merged=pd.concat([df, dummies ], axis=\"columns\")\n",
    "merged.head()"
   ],
   "metadata": {
    "collapsed": false,
    "pycharm": {
     "name": "#%%\n"
    }
   }
  },
  {
   "cell_type": "code",
   "execution_count": 42,
   "outputs": [
    {
     "data": {
      "text/plain": "    Year  April  August  December  February  January  July  June  March  May  \\\n0   1901      0       0         0         0        1     0     0      0    0   \n1   1901      0       0         0         1        0     0     0      0    0   \n2   1901      0       0         0         0        0     0     0      1    0   \n3   1901      1       0         0         0        0     0     0      0    0   \n4   1901      0       0         0         0        0     0     0      0    1   \n\n   November  October  September  \n0         0        0          0  \n1         0        0          0  \n2         0        0          0  \n3         0        0          0  \n4         0        0          0  ",
      "text/html": "<div>\n<style scoped>\n    .dataframe tbody tr th:only-of-type {\n        vertical-align: middle;\n    }\n\n    .dataframe tbody tr th {\n        vertical-align: top;\n    }\n\n    .dataframe thead th {\n        text-align: right;\n    }\n</style>\n<table border=\"1\" class=\"dataframe\">\n  <thead>\n    <tr style=\"text-align: right;\">\n      <th></th>\n      <th>Year</th>\n      <th>April</th>\n      <th>August</th>\n      <th>December</th>\n      <th>February</th>\n      <th>January</th>\n      <th>July</th>\n      <th>June</th>\n      <th>March</th>\n      <th>May</th>\n      <th>November</th>\n      <th>October</th>\n      <th>September</th>\n    </tr>\n  </thead>\n  <tbody>\n    <tr>\n      <th>0</th>\n      <td>1901</td>\n      <td>0</td>\n      <td>0</td>\n      <td>0</td>\n      <td>0</td>\n      <td>1</td>\n      <td>0</td>\n      <td>0</td>\n      <td>0</td>\n      <td>0</td>\n      <td>0</td>\n      <td>0</td>\n      <td>0</td>\n    </tr>\n    <tr>\n      <th>1</th>\n      <td>1901</td>\n      <td>0</td>\n      <td>0</td>\n      <td>0</td>\n      <td>1</td>\n      <td>0</td>\n      <td>0</td>\n      <td>0</td>\n      <td>0</td>\n      <td>0</td>\n      <td>0</td>\n      <td>0</td>\n      <td>0</td>\n    </tr>\n    <tr>\n      <th>2</th>\n      <td>1901</td>\n      <td>0</td>\n      <td>0</td>\n      <td>0</td>\n      <td>0</td>\n      <td>0</td>\n      <td>0</td>\n      <td>0</td>\n      <td>1</td>\n      <td>0</td>\n      <td>0</td>\n      <td>0</td>\n      <td>0</td>\n    </tr>\n    <tr>\n      <th>3</th>\n      <td>1901</td>\n      <td>1</td>\n      <td>0</td>\n      <td>0</td>\n      <td>0</td>\n      <td>0</td>\n      <td>0</td>\n      <td>0</td>\n      <td>0</td>\n      <td>0</td>\n      <td>0</td>\n      <td>0</td>\n      <td>0</td>\n    </tr>\n    <tr>\n      <th>4</th>\n      <td>1901</td>\n      <td>0</td>\n      <td>0</td>\n      <td>0</td>\n      <td>0</td>\n      <td>0</td>\n      <td>0</td>\n      <td>0</td>\n      <td>0</td>\n      <td>1</td>\n      <td>0</td>\n      <td>0</td>\n      <td>0</td>\n    </tr>\n  </tbody>\n</table>\n</div>"
     },
     "execution_count": 42,
     "metadata": {},
     "output_type": "execute_result"
    }
   ],
   "source": [
    "merged.drop(['Temperature','Month'],axis=\"columns\",inplace=True)\n",
    "X=merged\n",
    "X.head()"
   ],
   "metadata": {
    "collapsed": false,
    "pycharm": {
     "name": "#%%\n"
    }
   }
  },
  {
   "cell_type": "code",
   "execution_count": 43,
   "outputs": [
    {
     "data": {
      "text/plain": "LinearRegression()"
     },
     "execution_count": 43,
     "metadata": {},
     "output_type": "execute_result"
    }
   ],
   "source": [
    "model = LinearRegression()\n"
   ],
   "metadata": {
    "collapsed": false,
    "pycharm": {
     "name": "#%%\n"
    }
   }
  },
  {
   "cell_type": "code",
   "execution_count": 45,
   "outputs": [],
   "source": [
    "from sklearn.model_selection import train_test_split\n",
    "X_train, X_test, y_train, y_test = train_test_split( X,target, test_size=0.2)"
   ],
   "metadata": {
    "collapsed": false,
    "pycharm": {
     "name": "#%%\n"
    }
   }
  },
  {
   "cell_type": "code",
   "execution_count": 46,
   "outputs": [
    {
     "data": {
      "text/plain": "LinearRegression()"
     },
     "execution_count": 46,
     "metadata": {},
     "output_type": "execute_result"
    }
   ],
   "source": [
    "model.fit(X_train,y_train)"
   ],
   "metadata": {
    "collapsed": false,
    "pycharm": {
     "name": "#%%\n"
    }
   }
  },
  {
   "cell_type": "code",
   "execution_count": 47,
   "outputs": [
    {
     "data": {
      "text/plain": "0.9775651054819852"
     },
     "execution_count": 47,
     "metadata": {},
     "output_type": "execute_result"
    }
   ],
   "source": [
    "model.score(X_test, y_test)"
   ],
   "metadata": {
    "collapsed": false,
    "pycharm": {
     "name": "#%%\n"
    }
   }
  },
  {
   "cell_type": "code",
   "execution_count": 49,
   "outputs": [
    {
     "data": {
      "text/plain": "       Year  April  August  December  February  January  July  June  March  \\\n92     1908      0       0         0         0        0     0     0      0   \n1300   2009      0       0         0         0        0     0     0      0   \n1106   1993      0       0         0         0        0     0     0      1   \n441    1937      0       0         0         0        0     0     0      0   \n1048   1988      0       0         0         0        0     0     0      0   \n\n      May  November  October  September  \n92      0         0        0          1  \n1300    1         0        0          0  \n1106    0         0        0          0  \n441     0         0        1          0  \n1048    1         0        0          0  ",
      "text/html": "<div>\n<style scoped>\n    .dataframe tbody tr th:only-of-type {\n        vertical-align: middle;\n    }\n\n    .dataframe tbody tr th {\n        vertical-align: top;\n    }\n\n    .dataframe thead th {\n        text-align: right;\n    }\n</style>\n<table border=\"1\" class=\"dataframe\">\n  <thead>\n    <tr style=\"text-align: right;\">\n      <th></th>\n      <th>Year</th>\n      <th>April</th>\n      <th>August</th>\n      <th>December</th>\n      <th>February</th>\n      <th>January</th>\n      <th>July</th>\n      <th>June</th>\n      <th>March</th>\n      <th>May</th>\n      <th>November</th>\n      <th>October</th>\n      <th>September</th>\n    </tr>\n  </thead>\n  <tbody>\n    <tr>\n      <th>92</th>\n      <td>1908</td>\n      <td>0</td>\n      <td>0</td>\n      <td>0</td>\n      <td>0</td>\n      <td>0</td>\n      <td>0</td>\n      <td>0</td>\n      <td>0</td>\n      <td>0</td>\n      <td>0</td>\n      <td>0</td>\n      <td>1</td>\n    </tr>\n    <tr>\n      <th>1300</th>\n      <td>2009</td>\n      <td>0</td>\n      <td>0</td>\n      <td>0</td>\n      <td>0</td>\n      <td>0</td>\n      <td>0</td>\n      <td>0</td>\n      <td>0</td>\n      <td>1</td>\n      <td>0</td>\n      <td>0</td>\n      <td>0</td>\n    </tr>\n    <tr>\n      <th>1106</th>\n      <td>1993</td>\n      <td>0</td>\n      <td>0</td>\n      <td>0</td>\n      <td>0</td>\n      <td>0</td>\n      <td>0</td>\n      <td>0</td>\n      <td>1</td>\n      <td>0</td>\n      <td>0</td>\n      <td>0</td>\n      <td>0</td>\n    </tr>\n    <tr>\n      <th>441</th>\n      <td>1937</td>\n      <td>0</td>\n      <td>0</td>\n      <td>0</td>\n      <td>0</td>\n      <td>0</td>\n      <td>0</td>\n      <td>0</td>\n      <td>0</td>\n      <td>0</td>\n      <td>0</td>\n      <td>1</td>\n      <td>0</td>\n    </tr>\n    <tr>\n      <th>1048</th>\n      <td>1988</td>\n      <td>0</td>\n      <td>0</td>\n      <td>0</td>\n      <td>0</td>\n      <td>0</td>\n      <td>0</td>\n      <td>0</td>\n      <td>0</td>\n      <td>1</td>\n      <td>0</td>\n      <td>0</td>\n      <td>0</td>\n    </tr>\n  </tbody>\n</table>\n</div>"
     },
     "execution_count": 49,
     "metadata": {},
     "output_type": "execute_result"
    }
   ],
   "source": [
    "X_test.head()"
   ],
   "metadata": {
    "collapsed": false,
    "pycharm": {
     "name": "#%%\n"
    }
   }
  },
  {
   "cell_type": "code",
   "execution_count": 48,
   "outputs": [
    {
     "data": {
      "text/plain": "array([24.91439344, 26.55848677, 16.24200346, 20.76785464, 26.39425234,\n       10.59424319, 15.35253563, 14.75816342, 27.28969041, 21.00247526,\n       15.27432876, 26.15181104, 16.09341041, 25.94847318, 25.08644855,\n       28.04047637, 10.50499395, 26.11270761, 15.21176327, 15.85096911,\n       15.60279762, 21.14324762, 15.64763125, 25.95629387, 25.25068298,\n       15.6106183 , 28.63579434, 25.54786908,  8.53681011,  8.34129294,\n       10.73179388,  8.74014797, 26.0579628 , 26.46463852,  8.47424461,\n       10.68486975, 25.58697252, 15.20394258, 25.20375886, 16.14033453,\n       21.06504075, 26.61323158,  8.71668591, 25.21157954, 28.97437698,\n       25.00042099, 21.66801357, 10.35962258, 15.66327262,  8.44296187,\n       15.37599769, 16.26546552, 16.04648629, 28.70065293, 21.12838617,\n       27.39918003, 21.46467571, 25.26632435, 25.74513532, 25.97975593,\n       26.01885937, 27.64944202, 15.32907357, 10.67245006, 24.95349687,\n       21.31608266, 21.80878594, 26.25347998, 25.71210351,  8.91220309,\n       15.77276224, 10.31729747, 15.01624609, 20.64272365, 25.37581397,\n       10.30487777, 24.93003481, 25.74338626, 25.86244562, 21.13542693,\n       27.80585576, 15.7962243 , 28.8391322 , 28.01701431, 28.64361503,\n        8.88092034, 25.32106916, 20.79131671, 21.44121365, 10.02011136,\n       29.0213011 , 25.10991061, 20.79913739, 28.46603232, 28.83360461,\n       21.158889  , 10.2938354 , 10.41436739, 10.57860182, 10.47371121,\n       15.71019675, 15.76494156, 26.55066608, 16.30456896, 21.34658548,\n       21.25351716, 24.96913825, 20.58797884, 28.66937018, 21.22223441,\n       15.80404499, 15.46984594, 27.46174553,  8.31783087, 10.46129151,\n       21.26133785, 28.75539774, 25.63389664, 20.89298564, 27.75893163,\n       28.09522118, 15.86661049, 29.31066652, 28.63808744, 20.70528915,\n       10.1641054 , 29.24810102, 26.30822478, 26.54284539, 10.67704907,\n       10.52063533, 25.76077669, 10.71155349, 28.86259426, 21.32312342,\n       10.45024914, 25.878087  , 16.21072072, 26.18309379, 29.19335621,\n       21.37864815, 25.8155215 , 21.08850281, 28.94080113, 15.19612189,\n       21.78532388, 26.33168685, 21.03453793, 26.5975902 , 21.2926206 ,\n       10.97745685, 10.04357342, 15.9213553 , 21.19799243, 10.50039495,\n       27.68072476, 28.60451159, 21.61326876, 10.12500197, 25.46184153,\n       21.82442731, 21.26915854, 21.1127448 , 16.37495514, 10.42218808,\n        8.08321026, 15.2508667 , 25.19593817, 16.33585171, 27.30533179,\n       24.86746931, 27.73546957, 28.76321843, 26.31604547, 14.73470136,\n       29.30055273, 25.93283181, 25.7199242 , 29.05029075, 20.95555113,\n       21.30748205, 10.23449159, 25.80770082, 26.49592127, 28.78438739,\n       27.38353866, 27.97791087, 16.32021033, 25.04734512, 21.4099309 ,\n       28.65143571, 21.86353075, 20.7365719 , 10.75847762, 10.54409739,\n       10.96181548, 20.63490297,  8.239624  , 28.00137293, 10.49257426,\n       29.21452518, 15.08663227, 15.10227365, 10.72397319, 10.99309823,\n       28.6592564 , 21.62891014, 25.61825527, 27.6572627 , 21.18235106,\n       21.40211021, 29.31619411, 26.38643165, 16.38277583, 29.27156308,\n       25.52440702, 21.23787579, 21.63673082, 27.50084896, 29.06593212,\n        8.61501698, 29.06822522, 27.55559377, 10.15628472, 10.34858021,\n       15.39945975, 21.54288258, 28.69053915, 10.41114571, 24.99260031,\n       29.01348041, 15.22740464, 10.53167769, 25.72774489,  8.20834126,\n       21.12760625, 20.48630991, 14.79726686, 28.57322884, 21.62108945,\n       28.99554594, 21.19017174, 28.6615495 , 27.25840767, 26.00321799,\n       29.24028033, 28.66707709, 16.06212766, 16.12469316,  8.32565156,\n        8.56809286, 27.49302828, 26.16745242, 25.2350416 , 29.03464938,\n       28.83131151, 27.70418683, 10.8914293 , 26.22219723, 10.73961456,\n       28.58104953, 27.8371385 , 10.51603632, 10.52845601, 26.43335578,\n       28.56540816, 21.033758  , 28.93527354, 25.39145534,  8.42732049,\n       29.05258385, 20.97119251, 29.12849762, 10.57078113, 20.88516495,\n       29.16760106, 29.1386114 , 28.67489777, 21.79314457])"
     },
     "execution_count": 48,
     "metadata": {},
     "output_type": "execute_result"
    }
   ],
   "source": [
    "model.predict(X_test)"
   ],
   "metadata": {
    "collapsed": false,
    "pycharm": {
     "name": "#%%\n"
    }
   }
  },
  {
   "cell_type": "code",
   "execution_count": 53,
   "outputs": [
    {
     "data": {
      "text/plain": "array([24.91439344])"
     },
     "execution_count": 53,
     "metadata": {},
     "output_type": "execute_result"
    }
   ],
   "source": [
    "model.predict([[1908,0,0,0,0,0,0,0,0,0,0,0,1]])"
   ],
   "metadata": {
    "collapsed": false,
    "pycharm": {
     "name": "#%%\n"
    }
   }
  },
  {
   "cell_type": "code",
   "execution_count": 53,
   "outputs": [],
   "source": [],
   "metadata": {
    "collapsed": false,
    "pycharm": {
     "name": "#%%\n"
    }
   }
  },
  {
   "cell_type": "code",
   "execution_count": null,
   "outputs": [],
   "source": [],
   "metadata": {
    "collapsed": false,
    "pycharm": {
     "name": "#%%\n"
    }
   }
  }
 ],
 "metadata": {
  "kernelspec": {
   "display_name": "Python 3",
   "language": "python",
   "name": "python3"
  },
  "language_info": {
   "codemirror_mode": {
    "name": "ipython",
    "version": 2
   },
   "file_extension": ".py",
   "mimetype": "text/x-python",
   "name": "python",
   "nbconvert_exporter": "python",
   "pygments_lexer": "ipython2",
   "version": "2.7.6"
  }
 },
 "nbformat": 4,
 "nbformat_minor": 0
}